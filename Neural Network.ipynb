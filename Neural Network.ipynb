{
 "cells": [
  {
   "cell_type": "code",
   "execution_count": 2,
   "metadata": {},
   "outputs": [],
   "source": [
    "import numpy as np\n",
    "import random\n",
    "import matplotlib.pyplot as plt\n",
    "from numpy import exp, array, random, dot\n",
    "from skimage.io import imshow\n",
    "import os"
   ]
  },
  {
   "cell_type": "markdown",
   "metadata": {},
   "source": [
    "## Предобработка данных"
   ]
  },
  {
   "cell_type": "code",
   "execution_count": 3,
   "metadata": {},
   "outputs": [
    {
     "name": "stderr",
     "output_type": "stream",
     "text": [
      "Using TensorFlow backend.\n"
     ]
    }
   ],
   "source": [
    "from keras.datasets import mnist\n",
    "(x_train, y_train), (x_test, y_test) = mnist.load_data()\n",
    "\n",
    "#Разбиваем данные на обучающую и валидационую выборки\n",
    "num_classes = 10\n",
    "#Перемещиваем данные\n",
    "idx = np.random.permutation(len(x_train))\n",
    "data, tr_labels = x_train[idx], y_train[idx]\n",
    "val_labels = y_test\n",
    "\n",
    "# Делаем исходные картинки плоскими и формуриуем обучающую и валидационную выборки\n",
    "tr_data = []\n",
    "for i in range(len(data)):\n",
    "    tr_data.append(data[i].flatten())\n",
    "\n",
    "val_data = []\n",
    "for i in range(len(x_test)):\n",
    "    val_data.append(x_test[i].flatten())\n",
    "    \n",
    "tr_data = np.array(tr_data) \n",
    "val_data = np.array(val_data)    \n",
    "\n",
    "\n",
    "#tr_data.shape, val_data.shape , idx"
   ]
  },
  {
   "cell_type": "code",
   "execution_count": 9,
   "metadata": {},
   "outputs": [
    {
     "name": "stdout",
     "output_type": "stream",
     "text": [
      "(784,)\n",
      "8 [0. 0. 0. 0. 0. 0. 0. 0. 1. 0.]\n"
     ]
    },
    {
     "data": {
      "text/plain": [
       "<matplotlib.image.AxesImage at 0x28e9e9bf2c8>"
      ]
     },
     "execution_count": 9,
     "metadata": {},
     "output_type": "execute_result"
    },
    {
     "data": {
      "image/png": "[encoded data removed]",
      "text/plain": [
       "<Figure size 432x288 with 1 Axes>"
      ]
     },
     "metadata": {
      "needs_background": "light"
     },
     "output_type": "display_data"
    }
   ],
   "source": [
    "def scale(data):\n",
    "    data[data>0] = 255\n",
    "    return (data-np.min(data))/(np.max(data)-np.min(data))\n",
    "\n",
    "def one_hotting_labels(labels,num_classes, instances):\n",
    "    one_hot_labels = np.zeros((labels.shape[0], num_classes))\n",
    "\n",
    "    for i in range(instances):\n",
    "        one_hot_labels[i, labels[i]] = 1\n",
    "        \n",
    "    return one_hot_labels\n",
    "\n",
    "X_val = np.float32(scale(val_data)) \n",
    "X_train = np.float32(scale(tr_data))\n",
    "y_val = val_labels\n",
    "y_train = tr_labels\n",
    "\n",
    "instances = X_train.shape[0] #мощность обучающей выборки\n",
    "\n",
    "attributes = X_train.shape[1] #количество признаков\n",
    "\n",
    "one_hot_labels = one_hotting_labels(y_train,num_classes, instances)\n",
    "\n",
    "print(X_train[0].shape)\n",
    "print(y_train[0] ,one_hot_labels[0])\n",
    "imshow(X_train[0].reshape((28,28)))\n"
   ]
  },
  {
   "cell_type": "markdown",
   "metadata": {},
   "source": [
    "## Инициализация обучения"
   ]
  },
  {
   "cell_type": "code",
   "execution_count": 25,
   "metadata": {},
   "outputs": [],
   "source": [
    "num_perceptrons = 100\n",
    "num_classes = 10\n",
    "lr = 1e-5\n",
    "num_epochs= 200\n",
    "\n",
    "def sigmoid(x):\n",
    "    return 1/(1+np.exp(-x))\n",
    "\n",
    "def sigmoid_der(x):\n",
    "    return sigmoid(x) *(1-sigmoid (x))\n",
    "\n",
    "def compute_loss(y_true, y_pred ):\n",
    "    L_sum = np.sum(-1* y_true * np.log(y_pred + 1e-12))\n",
    "    \n",
    "    return L_sum\n",
    "        \n",
    "#y_true = np.array([0., 0., 1., 0., 0.])\n",
    "#y_pred = np.array([0.3, 0.1 , 0.2 , 0.9, 0.6])\n",
    "\n",
    "#compute_loss(y_true, y_pred)"
   ]
  },
  {
   "cell_type": "code",
   "execution_count": 26,
   "metadata": {},
   "outputs": [],
   "source": [
    "def train(X_train,one_hot_labels,instances,attributes,num_perceptrons,num_classes,lr, num_epochs,X_val,y_val):\n",
    "    \n",
    "    weights_hidden = np.random.normal(0,0.1,(attributes,num_perceptrons)) #weights_hidden - веса на скрытом слое\n",
    "    bias_hidden = np.random.normal(0,0.1,(num_perceptrons)) #bias_hidden - отклонение на скрытом слое\n",
    "\n",
    "    weights_out = np.random.normal(0,0.1,(num_perceptrons, num_classes)) #weights_out - веса на выходном слое\n",
    "    bias_out = np.random.normal(0,0.1,(num_classes)) #bias_out - отклонение на выходном слое\n",
    "\n",
    "    LOSS_tr = []\n",
    "    LOSS_val = []\n",
    "    ACC_tr = []\n",
    "    ACC_val = []\n",
    "\n",
    "    for epoch in range(num_epochs):\n",
    "        # Подсчет значений активации на скрытом слое\n",
    "        #print(weights_out[0])\n",
    "        value_hidden = np.dot(X_train, weights_hidden) + bias_hidden #значение в hidden\n",
    "        activation_hidden = sigmoid(value_hidden) #функция активации в hidden\n",
    "        # Подсчет значений активации на выходном слое\n",
    "        value_out = np.dot(activation_hidden, weights_out) + bias_out #значение в out\n",
    "        activation_out = sigmoid(value_out) #функция активации в out\n",
    "        loss = compute_loss(one_hot_labels , activation_out)\n",
    "        LOSS_tr.append(loss)\n",
    "        ##################\n",
    "        ### Back prop ####\n",
    "        ##################\n",
    "        #     print('loss ',loss)\n",
    "        #     print('\\n')\n",
    "        #     print('activation_out ',activation_out[0])\n",
    "        #     print('\\n')\n",
    "        #     print('activation_hidden ',activation_hidden[0])\n",
    "        #     print('\\n')\n",
    "\n",
    "        #     print('value_out ',value_out[0])\n",
    "        #     print('\\n')\n",
    "        #     print('value_hidden ',value_hidden[0])\n",
    "        #     print('\\n')\n",
    "\n",
    "            ######### Фаза 1 Применение цепного правила для слоя out\n",
    "        # d_cost / d_WO = d_cost / d_AO * d_AO / d_VO * d_VO / d_WO\n",
    "\n",
    "        # d_cost / d_AO = d_(-y^ * log(AO) - (1-y^) * log((1-AO))) / d_AO = -y^ / AO - (1-y^) * (-1/(1-AO)) = -y^/AO + (1-y^)/(1-AO)\n",
    "\n",
    "        # d_cost / d_VO = d_cost / d_AO * d_AO / d_VO = (-y^/AO + (1-y^)/(1-AO)) * sigmoid(VO) * (1-sigmoid(VO)) = \n",
    "        # = (-y^/AO + (1-y^)/(1-AO)) * AO * (1-AO) = (-y^ + (1-y^)*AO / (1-AO)) *(1-AO) = -y^ *(1 - AO) + (1-y^) * AO =\n",
    "        # = -y^ + y^ * AO + AO - y^ * AO = -y^  + AO = AO - y^\n",
    "\n",
    "        \n",
    "        #print(value_hidden[0])\n",
    "        d_cost_d_VO = (activation_out - one_hot_labels) #* sigmoid_der(value_out)\n",
    "        #print('d_cost_d_VO ',d_cost_d_VO[0], d_cost_d_VO.shape)\n",
    "        #print('\\n')\n",
    "        d_VO_d_WO = activation_hidden \n",
    "        #print('d_VO_d_WO ',d_VO_d_WO[0] , d_VO_d_WO.shape)\n",
    "        #print('\\n')\n",
    "        d_cost_d_WO = np.dot(d_cost_d_VO.T , d_VO_d_WO).T\n",
    "        #print('d_cost_d_WO ',d_cost_d_WO[0])\n",
    "        #print('\\n') \n",
    "        d_cost_d_BO = d_cost_d_VO.sum(axis=0)\n",
    "        #print('d_cost_d_BO ',d_cost_d_BO[0])\n",
    "        #print('\\n')\n",
    "        #print(weights_out)\n",
    "        #############\n",
    "\n",
    "        d_VO_d_AH = weights_out \n",
    "        d_AH_d_VH = sigmoid_der(value_hidden) \n",
    "        d_VH_d_WH = X_train \n",
    "        d_cost_d_AH = np.dot(d_cost_d_VO, d_VO_d_AH.T)\n",
    "        d_cost_d_VH = d_cost_d_AH * d_AH_d_VH\n",
    "        d_cost_d_WH = np.dot(d_cost_d_VH.T , d_VH_d_WH).T \n",
    "        d_cost_d_BH = d_cost_d_VH.sum(axis=0)\n",
    "\n",
    "        weights_hidden -= lr * d_cost_d_WH #отнимает значение изменения ошибки от весов из весов, помноженное на коэффициент доверия\n",
    "        bias_hidden -= lr * d_cost_d_BH # то же самое проделываем с байесом\n",
    "\n",
    "        # то же делаем с весами и bias из out-слоя\n",
    "        weights_out -= (lr * d_cost_d_WO)\n",
    "        #print(weights_out[0])\n",
    "        bias_out -= (lr * d_cost_d_BO)\n",
    "        print(epoch,end='\\r')\n",
    "        \n",
    "        ao=activation_out\n",
    "        ao[ao>=0.5] = 1\n",
    "        ao[ao<0.5] = 0\n",
    "\n",
    "        result=(one_hot_labels - ao)\n",
    "        wrong = result[result ** 2 > 0]\n",
    "\n",
    "        acc = 1-len(wrong)/len(result)\n",
    "        \n",
    "        ACC_tr.append(acc)\n",
    "        \n",
    "        if epoch % 10 == 0:\n",
    "            print(loss)\n",
    "        loss_val, val_acc = validate(X_val,y_val, one_hot_labels , weights_hidden , bias_hidden , weights_out , bias_out)\n",
    "        ACC_val.append(val_acc)\n",
    "        LOSS_val.append(loss_val)\n",
    "        \n",
    "    return weights_hidden , bias_hidden , weights_out , bias_out, ACC_tr , LOSS_tr , LOSS_val , ACC_val\n",
    "    \n",
    "def validate(X_val,y_val, one_hot_labels , weights_hidden , bias_hidden , weights_out , bias_out):\n",
    "    value_hidden = np.dot(X_val, weights_hidden) + bias_hidden \n",
    "    activation_hidden = sigmoid(value_hidden) \n",
    "\n",
    "    value_out = np.dot(activation_hidden, weights_out) + bias_out\n",
    "    activation_out = sigmoid(value_out)\n",
    "    \n",
    "    LOSS_val = compute_loss(one_hotting_labels(y_val, num_classes, y_val.shape[0]) , activation_out)\n",
    "    \n",
    "    ao=activation_out\n",
    "    ao[ao>=0.5] = 1\n",
    "    ao[ao<0.5] = 0\n",
    "    \n",
    "    result=(one_hotting_labels(y_val, num_classes, y_val.shape[0]) - ao)\n",
    "    wrong = result[result ** 2 > 0]\n",
    "    \n",
    "    acc = 1-len(wrong)/len(result)\n",
    "    #print(f\"Результирующая точность на валидации - {acc}\")\n",
    "    return LOSS_val,acc"
   ]
  },
  {
   "cell_type": "code",
   "execution_count": 27,
   "metadata": {},
   "outputs": [
    {
     "name": "stdout",
     "output_type": "stream",
     "text": [
      "47493.7402370357\n",
      "110197.17815953374\n",
      "81855.97890698267\n",
      "64753.213179686405\n",
      "54959.92298230301\n",
      "48689.940319232475\n",
      "44287.8455375995\n",
      "41000.81259366138\n",
      "38438.34960444175\n",
      "36377.68776415652\n",
      "34681.8199726195\n",
      "33260.72517369613\n",
      "32051.938600299083\n",
      "31010.28504091272\n",
      "30102.11758335204\n",
      "29301.858620538373\n",
      "28589.77751548773\n",
      "27950.478922187427\n",
      "27371.831742803985\n",
      "26844.190283335112\n",
      "199\r"
     ]
    }
   ],
   "source": [
    "weights_hidden , bias_hidden , weights_out , bias_out, ACC_tr , LOSS_tr , LOSS_val , ACC_val = \\\n",
    "    train(X_train,one_hot_labels,instances,attributes,num_perceptrons,num_classes,lr, num_epochs,X_val,y_val)"
   ]
  },
  {
   "cell_type": "code",
   "execution_count": 28,
   "metadata": {},
   "outputs": [
    {
     "data": {
      "text/plain": [
       "[<matplotlib.lines.Line2D at 0x27a804119c8>]"
      ]
     },
     "execution_count": 28,
     "metadata": {},
     "output_type": "execute_result"
    },
    {
     "data": {
      "image/png": "[encoded data removed]",
      "text/plain": [
       "<Figure size 432x288 with 1 Axes>"
      ]
     },
     "metadata": {
      "needs_background": "light"
     },
     "output_type": "display_data"
    }
   ],
   "source": [
    "plt.plot(LOSS_tr)\n",
    "plt.plot(LOSS_val)"
   ]
  },
  {
   "cell_type": "code",
   "execution_count": 29,
   "metadata": {},
   "outputs": [
    {
     "data": {
      "text/plain": [
       "[<matplotlib.lines.Line2D at 0x27a80493d88>]"
      ]
     },
     "execution_count": 29,
     "metadata": {},
     "output_type": "execute_result"
    },
    {
     "data": {
      "image/png": "[encoded data removed]",
      "text/plain": [
       "<Figure size 432x288 with 1 Axes>"
      ]
     },
     "metadata": {
      "needs_background": "light"
     },
     "output_type": "display_data"
    }
   ],
   "source": [
    "plt.plot(ACC_tr[5:])\n",
    "plt.plot(ACC_val)"
   ]
  },
  {
   "cell_type": "code",
   "execution_count": 30,
   "metadata": {},
   "outputs": [
    {
     "name": "stdout",
     "output_type": "stream",
     "text": [
      "Результирующая точность на валидации - 0.7848999999999999\n"
     ]
    }
   ],
   "source": [
    "LOSS_val, val_acc = validate(X_val,y_val,one_hot_labels , weights_hidden , bias_hidden , weights_out , bias_out)\n",
    "print(f\"Результирующая точность на валидации - {val_acc}\")"
   ]
  },
  {
   "cell_type": "code",
   "execution_count": null,
   "metadata": {},
   "outputs": [],
   "source": []
  },
  {
   "cell_type": "code",
   "execution_count": null,
   "metadata": {},
   "outputs": [],
   "source": []
  },
  {
   "cell_type": "code",
   "execution_count": null,
   "metadata": {},
   "outputs": [],
   "source": []
  }
 ],
 "metadata": {
  "kernelspec": {
   "display_name": "Python 3",
   "language": "python",
   "name": "python3"
  },
  "language_info": {
   "codemirror_mode": {
    "name": "ipython",
    "version": 3
   },
   "file_extension": ".py",
   "mimetype": "text/x-python",
   "name": "python",
   "nbconvert_exporter": "python",
   "pygments_lexer": "ipython3",
   "version": "3.7.4"
  }
 },
 "nbformat": 4,
 "nbformat_minor": 2
}
