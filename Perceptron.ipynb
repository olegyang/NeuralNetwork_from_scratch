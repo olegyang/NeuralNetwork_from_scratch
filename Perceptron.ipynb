{
 "cells": [
  {
   "cell_type": "code",
   "execution_count": 1,
   "metadata": {
    "ExecuteTime": {
     "end_time": "2019-10-21T21:31:40.380695Z",
     "start_time": "2019-10-21T21:31:40.370111Z"
    }
   },
   "outputs": [
    {
     "name": "stderr",
     "output_type": "stream",
     "text": [
      "Using TensorFlow backend.\n"
     ]
    }
   ],
   "source": [
    "#Импорт необходимых библиотек\n",
    "import numpy as np\n",
    "from numpy import random \n",
    "from keras.datasets import mnist\n",
    "from skimage.io import imshow\n",
    "import matplotlib.pyplot as plt\n",
    "%matplotlib inline"
   ]
  },
  {
   "cell_type": "code",
   "execution_count": 192,
   "metadata": {},
   "outputs": [],
   "source": [
    "def compute_loss(y_true, y_pred):\n",
    "    loss  = -1* y_true * np.log(y_pred + 1e-12) -(1- y_true) * np.log(1 - y_pred + 1e-12) \n",
    "    #loss = (y_true-y_pred)**2\n",
    "    return loss\n",
    "\n",
    "def invert_result(choose_two_classes, pred):\n",
    "    if pred == 0 :\n",
    "        pred = choose_two_classes[1]\n",
    "    else:\n",
    "        pred = choose_two_classes[0]\n",
    "    return pred"
   ]
  },
  {
   "cell_type": "code",
   "execution_count": 261,
   "metadata": {
    "ExecuteTime": {
     "end_time": "2019-10-21T21:37:15.511450Z",
     "start_time": "2019-10-21T21:37:15.492549Z"
    }
   },
   "outputs": [],
   "source": [
    "#Класс перцептрона\n",
    "class Perceptron(object):\n",
    "\n",
    "    def __init__(self, num_inputs, threshold, learning_rate, choose_two_classes):\n",
    "        self.threshold = threshold #Задаем количество итераций для обучения\n",
    "        self.learning_rate = learning_rate #Задаем темп обучения\n",
    "        self.weights = np.zeros(num_inputs + 1) #Задаем входное количество признаков\n",
    "        self.class1 = choose_two_classes[0] # 9\n",
    "        self.class2 = choose_two_classes[1] # 8\n",
    "        \n",
    "    def predict(self, inputs): #модуль предсказания\n",
    "        # np.dot(inputs, self.weights[1:]) - произведение входных признаков на веса\n",
    "        # self.weights[0] - байес\n",
    "        summation = np.dot(inputs, self.weights[1:]) + self.weights[0] # функция суммирования\n",
    "        \n",
    "        #Реализуем пороговую функцию активации\n",
    "        if summation > 0:\n",
    "            activation = 1\n",
    "        else:\n",
    "            activation = 0         \n",
    "        return activation\n",
    "    \n",
    "    def choose_right_answer(self ,label , prediction):\n",
    "        ans = 0\n",
    "        if label - prediction != 0:\n",
    "            if label == self.class1 and prediction == self.class2:\n",
    "                ans = 1 # в таком случае мы хотим чтобы с большей вероятностью выдавался класс 1\n",
    "                #для этого необходимо чтобы функция summation была > 0, поэтому увеличиваем веса\n",
    "            if label == self.class2 and prediction == self.class1:\n",
    "                ans = -1 # в таком случае мы хотим чтобы с большей вероятностью выдавался класс 2\n",
    "                #для этого необходимо чтобы функция summation была < 0, поэтому уменьшаем веса\n",
    "        return ans\n",
    "\n",
    "    def train(self, training_inputs, labels, choose_two_classes, val_data ,val_labels): #модуль обучения\n",
    "        tr_LOSS = []\n",
    "        tr_ACC_on_iter = []\n",
    "        train_loss = 0\n",
    "        label_bin = labels\n",
    "        label_bin[label_bin == self.class1] = 1\n",
    "        label_bin[label_bin == self.class2] = 0\n",
    "        sum_pred = 0\n",
    "        sum_label = 0\n",
    "        val_LOSS = []\n",
    "        val_ACC_on_iter = []\n",
    "        for  in range(self.threshold):\n",
    "            for inputs, label in zip(training_inputs, label_bin): #для каждой пары объект - класс\n",
    "                prediction = self.predict(inputs) #предсказываем класс изображения\n",
    "                #обновляем веса по дельта-правилу\n",
    "                self.weights[1:] += self.learning_rate * (label - prediction) * inputs \n",
    "                self.weights[0] += self.learning_rate * (label - prediction) #обновляем байес\n",
    "                if (label - prediction) == 0:\n",
    "                    sum_pred += 1\n",
    "                sum_label += 1\n",
    "                train_loss += 1/len(training_inputs) * compute_loss(label, prediction)\n",
    "            tr_LOSS.append(train_loss) \n",
    "            tr_ACC_on_iter.append(1- abs(sum_pred-sum_label)/sum_label)\n",
    "            train_loss = 0\n",
    "            acc_val, val_loss = self.validate(choose_two_classes,val_data, val_labels)\n",
    "            val_LOSS.append(val_loss) \n",
    "            val_ACC_on_iter.append(acc_val)\n",
    "            print(t, end='\\r')\n",
    "        tr_acc_res = 1- abs(sum_pred-sum_label)/sum_label\n",
    "        print(t)\n",
    "        return tr_ACC_on_iter , tr_acc_res, tr_LOSS , val_LOSS, val_ACC_on_iter\n",
    "    \n",
    "    def return_weights(self):\n",
    "        return self.weights #возвращаем вектор весов\n",
    "    \n",
    "    def validate(self, choose_two_classes,val_data, val_labels):\n",
    "        sum_pred = 0\n",
    "        sum_label = 0\n",
    "        ACC_val = 0\n",
    "        val_loss = 0\n",
    "        \n",
    "        for i in range(len(val_data)):\n",
    "            pred = self.predict(val_data[i])\n",
    "            if invert_result(choose_two_classes, pred) == val_labels[i]:\n",
    "                sum_pred += 1\n",
    "            sum_label += 1 \n",
    "            if val_labels[i] == choose_two_classes[0]:\n",
    "                val_loss += 1/len(val_data) * compute_loss(1, pred)\n",
    "            elif val_labels[i] == choose_two_classes[1] :\n",
    "                val_loss += 1/len(val_data) * compute_loss(0, pred)\n",
    "        ACC_val = (1 - abs(sum_pred-sum_label)/sum_label)\n",
    "        \n",
    "        return ACC_val, val_loss"
   ]
  },
  {
   "cell_type": "code",
   "execution_count": 263,
   "metadata": {},
   "outputs": [
    {
     "data": {
      "text/plain": [
       "((11800, 28, 28), (11800,), (1983, 28, 28), (1983,))"
      ]
     },
     "execution_count": 263,
     "metadata": {},
     "output_type": "execute_result"
    }
   ],
   "source": [
    "#Загружаем MNIST\n",
    "(x_train, y_train), (x_test, y_test) = mnist.load_data()\n",
    "choose_two_classes =  [9,8] #Задаем желаемые классы цифр для обучения / теста\n",
    "\n",
    "idx_to_train = np.where(np.logical_or(y_train==choose_two_classes[0], y_train==choose_two_classes[1]))\n",
    "idx_to_val = np.where(np.logical_or(y_test==choose_two_classes[0], y_test==choose_two_classes[1]))\n",
    "\n",
    "x_train_red , y_train_red = x_train[idx_to_train] , y_train[idx_to_train]\n",
    "x_test_red , y_test_red = x_test[idx_to_val] , y_test[idx_to_val]\n",
    "\n",
    "x_train_red.shape , y_train_red.shape , x_test_red.shape , y_test_red.shape"
   ]
  },
  {
   "cell_type": "code",
   "execution_count": 264,
   "metadata": {
    "ExecuteTime": {
     "end_time": "2019-10-21T21:38:30.088409Z",
     "start_time": "2019-10-21T21:38:30.071444Z"
    }
   },
   "outputs": [
    {
     "data": {
      "text/plain": [
       "((11800, 784), (1983, 784), array([1187, 8704, 9092, ..., 8110, 5449, 6549]))"
      ]
     },
     "execution_count": 264,
     "metadata": {},
     "output_type": "execute_result"
    }
   ],
   "source": [
    "#Разбиваем данные на обучающую и валидационую выборки\n",
    "\n",
    "#Перемещиваем данные\n",
    "idx = np.random.permutation(len(x_train_red))\n",
    "data, tr_labels = x_train_red[idx], y_train_red[idx]\n",
    "val_labels = y_test_red\n",
    "\n",
    "# Делаем исходные картинки плоскими и формуриуем обучающую и валидационную выборки\n",
    "tr_data = []\n",
    "for i in range(len(data)):\n",
    "    tr_data.append(data[i].flatten())\n",
    "\n",
    "val_data = []\n",
    "for i in range(len(x_test_red)):\n",
    "    val_data.append(x_test_red[i].flatten())\n",
    "    \n",
    "tr_data = np.array(tr_data) \n",
    "val_data = np.array(val_data)    \n",
    "\n",
    "\n",
    "tr_data.shape, val_data.shape , idx"
   ]
  },
  {
   "cell_type": "code",
   "execution_count": 273,
   "metadata": {
    "ExecuteTime": {
     "end_time": "2019-10-21T21:38:31.024387Z",
     "start_time": "2019-10-21T21:38:30.935961Z"
    }
   },
   "outputs": [
    {
     "name": "stdout",
     "output_type": "stream",
     "text": [
      "Результирующая точность на обучении 0.9826838983050847\n"
     ]
    },
    {
     "data": {
      "text/plain": [
       "[<matplotlib.lines.Line2D at 0x1a05c925dc8>]"
      ]
     },
     "execution_count": 273,
     "metadata": {},
     "output_type": "execute_result"
    },
    {
     "data": {
      "image/png": "[encoded data removed]",
      "text/plain": [
       "<Figure size 432x288 with 1 Axes>"
      ]
     },
     "metadata": {
      "needs_background": "light"
     },
     "output_type": "display_data"
    }
   ],
   "source": [
    "#Процесс обучения\n",
    "threshold = 1000\n",
    "learning_rate= 0.0001\n",
    "\n",
    "perceptron = Perceptron(len(tr_data[0]), threshold, learning_rate, choose_two_classes)\n",
    "tr_ACC_on_iter , tr_acc_res, tr_LOSS , val_LOSS, val_ACC_on_iter  = \\\n",
    "perceptron.train(tr_data, tr_labels, choose_two_classes, val_data, val_labels)\n",
    "print(f\"Результирующая точность на обучении {acc_res}\")\n",
    "plt.title(\"Изменение точности на эпохах\")\n",
    "plt.plot(tr_ACC_on_iter)\n",
    "plt.plot(val_ACC_on_iter)"
   ]
  },
  {
   "cell_type": "code",
   "execution_count": 274,
   "metadata": {},
   "outputs": [
    {
     "data": {
      "text/plain": [
       "[<matplotlib.lines.Line2D at 0x1a05c9864c8>]"
      ]
     },
     "execution_count": 274,
     "metadata": {},
     "output_type": "execute_result"
    },
    {
     "data": {
      "image/png": "[encoded data removed]",
      "text/plain": [
       "<Figure size 432x288 with 1 Axes>"
      ]
     },
     "metadata": {
      "needs_background": "light"
     },
     "output_type": "display_data"
    }
   ],
   "source": [
    "plt.title(\"Изменение функции потери на эпохах\")\n",
    "plt.plot(tr_LOSS)\n",
    "plt.plot(val_LOSS)"
   ]
  },
  {
   "cell_type": "code",
   "execution_count": 272,
   "metadata": {
    "ExecuteTime": {
     "end_time": "2019-10-21T21:38:31.485557Z",
     "start_time": "2019-10-21T21:38:31.468555Z"
    },
    "scrolled": false
   },
   "outputs": [
    {
     "name": "stdout",
     "output_type": "stream",
     "text": [
      "Испытание 0: предсказанный результат 9, правильное значение 9\n",
      "Испытание 24 c ошибкой: предсказанный результат 8, правильное значение 9\n",
      "Испытание 39 c ошибкой: предсказанный результат 8, правильное значение 9\n",
      "Испытание 47 c ошибкой: предсказанный результат 8, правильное значение 9\n",
      "Испытание 55 c ошибкой: предсказанный результат 8, правильное значение 9\n",
      "Испытание 56 c ошибкой: предсказанный результат 8, правильное значение 9\n",
      "Испытание 79 c ошибкой: предсказанный результат 8, правильное значение 9\n",
      "Испытание 100: предсказанный результат 8, правильное значение 8\n",
      "Испытание 135 c ошибкой: предсказанный результат 9, правильное значение 8\n",
      "Испытание 153 c ошибкой: предсказанный результат 8, правильное значение 9\n",
      "Испытание 160 c ошибкой: предсказанный результат 8, правильное значение 9\n",
      "Испытание 178 c ошибкой: предсказанный результат 8, правильное значение 9\n",
      "Испытание 200: предсказанный результат 9, правильное значение 9\n",
      "Испытание 206 c ошибкой: предсказанный результат 8, правильное значение 9\n",
      "Испытание 216 c ошибкой: предсказанный результат 8, правильное значение 9\n",
      "Испытание 227 c ошибкой: предсказанный результат 8, правильное значение 9\n",
      "Испытание 229 c ошибкой: предсказанный результат 8, правильное значение 9\n",
      "Испытание 294 c ошибкой: предсказанный результат 8, правильное значение 9\n",
      "Испытание 300: предсказанный результат 8, правильное значение 8\n",
      "Испытание 306 c ошибкой: предсказанный результат 8, правильное значение 9\n",
      "Испытание 335 c ошибкой: предсказанный результат 8, правильное значение 9\n",
      "Испытание 369 c ошибкой: предсказанный результат 8, правильное значение 9\n",
      "Испытание 376 c ошибкой: предсказанный результат 8, правильное значение 9\n",
      "Испытание 384 c ошибкой: предсказанный результат 8, правильное значение 9\n",
      "Испытание 400: предсказанный результат 8, правильное значение 8\n",
      "Испытание 407 c ошибкой: предсказанный результат 8, правильное значение 9\n",
      "Испытание 420 c ошибкой: предсказанный результат 8, правильное значение 9\n",
      "Испытание 443 c ошибкой: предсказанный результат 8, правильное значение 9\n",
      "Испытание 444 c ошибкой: предсказанный результат 8, правильное значение 9\n",
      "Испытание 458 c ошибкой: предсказанный результат 8, правильное значение 9\n",
      "Испытание 465 c ошибкой: предсказанный результат 8, правильное значение 9\n",
      "Испытание 475 c ошибкой: предсказанный результат 8, правильное значение 9\n",
      "Испытание 487 c ошибкой: предсказанный результат 8, правильное значение 9\n",
      "Испытание 497 c ошибкой: предсказанный результат 8, правильное значение 9\n",
      "Испытание 500: предсказанный результат 8, правильное значение 8\n",
      "Испытание 502 c ошибкой: предсказанный результат 8, правильное значение 9\n",
      "Испытание 581 c ошибкой: предсказанный результат 8, правильное значение 9\n",
      "Испытание 583 c ошибкой: предсказанный результат 8, правильное значение 9\n",
      "Испытание 600: предсказанный результат 8, правильное значение 8\n",
      "Испытание 666 c ошибкой: предсказанный результат 8, правильное значение 9\n",
      "Испытание 686 c ошибкой: предсказанный результат 8, правильное значение 9\n",
      "Испытание 687 c ошибкой: предсказанный результат 8, правильное значение 9\n",
      "Испытание 698 c ошибкой: предсказанный результат 8, правильное значение 9\n",
      "Испытание 700: предсказанный результат 8, правильное значение 8\n",
      "Испытание 707 c ошибкой: предсказанный результат 8, правильное значение 9\n",
      "Испытание 739 c ошибкой: предсказанный результат 8, правильное значение 9\n",
      "Испытание 756 c ошибкой: предсказанный результат 8, правильное значение 9\n",
      "Испытание 757 c ошибкой: предсказанный результат 8, правильное значение 9\n",
      "Испытание 769 c ошибкой: предсказанный результат 8, правильное значение 9\n",
      "Испытание 775 c ошибкой: предсказанный результат 8, правильное значение 9\n",
      "Испытание 796 c ошибкой: предсказанный результат 8, правильное значение 9\n",
      "Испытание 800: предсказанный результат 8, правильное значение 8\n",
      "Испытание 806 c ошибкой: предсказанный результат 8, правильное значение 9\n",
      "Испытание 849 c ошибкой: предсказанный результат 8, правильное значение 9\n",
      "Испытание 900: предсказанный результат 8, правильное значение 8\n",
      "Испытание 905 c ошибкой: предсказанный результат 8, правильное значение 9\n",
      "Испытание 936 c ошибкой: предсказанный результат 8, правильное значение 9\n",
      "Испытание 958 c ошибкой: предсказанный результат 8, правильное значение 9\n",
      "Испытание 985 c ошибкой: предсказанный результат 8, правильное значение 9\n",
      "Испытание 1000: предсказанный результат 9, правильное значение 9\n",
      "Испытание 1001 c ошибкой: предсказанный результат 8, правильное значение 9\n",
      "Испытание 1009 c ошибкой: предсказанный результат 8, правильное значение 9\n",
      "Испытание 1016 c ошибкой: предсказанный результат 8, правильное значение 9\n",
      "Испытание 1025 c ошибкой: предсказанный результат 8, правильное значение 9\n",
      "Испытание 1064 c ошибкой: предсказанный результат 8, правильное значение 9\n",
      "Испытание 1100: предсказанный результат 8, правильное значение 8\n",
      "Испытание 1200: предсказанный результат 8, правильное значение 8\n",
      "Испытание 1221 c ошибкой: предсказанный результат 8, правильное значение 9\n",
      "Испытание 1223 c ошибкой: предсказанный результат 8, правильное значение 9\n",
      "Испытание 1225 c ошибкой: предсказанный результат 8, правильное значение 9\n",
      "Испытание 1234 c ошибкой: предсказанный результат 8, правильное значение 9\n",
      "Испытание 1236 c ошибкой: предсказанный результат 8, правильное значение 9\n",
      "Испытание 1237 c ошибкой: предсказанный результат 8, правильное значение 9\n",
      "Испытание 1238 c ошибкой: предсказанный результат 8, правильное значение 9\n",
      "Испытание 1239 c ошибкой: предсказанный результат 8, правильное значение 9\n",
      "Испытание 1264 c ошибкой: предсказанный результат 8, правильное значение 9\n",
      "Испытание 1300: предсказанный результат 9, правильное значение 9\n",
      "Испытание 1305 c ошибкой: предсказанный результат 8, правильное значение 9\n",
      "Испытание 1314 c ошибкой: предсказанный результат 8, правильное значение 9\n",
      "Испытание 1331 c ошибкой: предсказанный результат 8, правильное значение 9\n",
      "Испытание 1347 c ошибкой: предсказанный результат 8, правильное значение 9\n",
      "Испытание 1351 c ошибкой: предсказанный результат 8, правильное значение 9\n",
      "Испытание 1352 c ошибкой: предсказанный результат 8, правильное значение 9\n",
      "Испытание 1359 c ошибкой: предсказанный результат 8, правильное значение 9\n",
      "Испытание 1398 c ошибкой: предсказанный результат 8, правильное значение 9\n",
      "Испытание 1400: предсказанный результат 9, правильное значение 9\n",
      "Испытание 1448 c ошибкой: предсказанный результат 8, правильное значение 9\n",
      "Испытание 1490 c ошибкой: предсказанный результат 8, правильное значение 9\n",
      "Испытание 1500: предсказанный результат 8, правильное значение 8\n",
      "Испытание 1551 c ошибкой: предсказанный результат 8, правильное значение 9\n",
      "Испытание 1567 c ошибкой: предсказанный результат 8, правильное значение 9\n",
      "Испытание 1600: предсказанный результат 9, правильное значение 9\n",
      "Испытание 1603 c ошибкой: предсказанный результат 8, правильное значение 9\n",
      "Испытание 1637 c ошибкой: предсказанный результат 8, правильное значение 9\n",
      "Испытание 1640 c ошибкой: предсказанный результат 8, правильное значение 9\n",
      "Испытание 1667 c ошибкой: предсказанный результат 8, правильное значение 9\n",
      "Испытание 1678 c ошибкой: предсказанный результат 8, правильное значение 9\n",
      "Испытание 1700: предсказанный результат 9, правильное значение 9\n",
      "Испытание 1731 c ошибкой: предсказанный результат 8, правильное значение 9\n",
      "Испытание 1752 c ошибкой: предсказанный результат 8, правильное значение 9\n",
      "Испытание 1782 c ошибкой: предсказанный результат 8, правильное значение 9\n",
      "Испытание 1800: предсказанный результат 9, правильное значение 9\n",
      "Испытание 1835 c ошибкой: предсказанный результат 8, правильное значение 9\n",
      "Испытание 1844 c ошибкой: предсказанный результат 8, правильное значение 9\n",
      "Испытание 1896 c ошибкой: предсказанный результат 8, правильное значение 9\n",
      "Испытание 1900: предсказанный результат 9, правильное значение 9\n",
      "Испытание 1936 c ошибкой: предсказанный результат 8, правильное значение 9\n",
      "Испытание 1937 c ошибкой: предсказанный результат 8, правильное значение 9\n",
      "Испытание 1944 c ошибкой: предсказанный результат 8, правильное значение 9\n",
      "Испытание 1963 c ошибкой: предсказанный результат 8, правильное значение 9\n",
      "Испытание 1970 c ошибкой: предсказанный результат 8, правильное значение 9\n",
      "Значение средней тоности составило 95.41099344427634%\n"
     ]
    },
    {
     "data": {
      "text/plain": [
       "<matplotlib.image.AxesImage at 0x1a05c6dd848>"
      ]
     },
     "execution_count": 272,
     "metadata": {},
     "output_type": "execute_result"
    },
    {
     "data": {
      "image/png": "[encoded data removed]",
      "text/plain": [
       "<Figure size 432x288 with 2 Axes>"
      ]
     },
     "metadata": {
      "needs_background": "light"
     },
     "output_type": "display_data"
    }
   ],
   "source": [
    "#Предсказываем значения на значениях весов из последней итерации\n",
    "sum_pred = 0\n",
    "sum_label = 0\n",
    "\n",
    "for i in range(len(val_data)):\n",
    "    if i % 100 == 0 :\n",
    "        print(f\"Испытание {i}: предсказанный результат {invert_result(choose_two_classes, perceptron.predict(val_data[i]))}\\\n",
    ", правильное значение {val_labels[i]}\")\n",
    "        \n",
    "    if invert_result(choose_two_classes, perceptron.predict(val_data[i])) == val_labels[i]:\n",
    "        sum_pred += 1\n",
    "    else:\n",
    "        print(f\"Испытание {i} c ошибкой: предсказанный результат {invert_result(choose_two_classes, perceptron.predict(val_data[i]))}\\\n",
    ", правильное значение {val_labels[i]}\")\n",
    "    sum_label += 1 \n",
    "        \n",
    "print (f\"Значение средней тоности составило {(1 - abs(sum_pred-sum_label)/sum_label) * 100}%\")\n",
    "# Смотрим распределние весов\n",
    "w = perceptron.weights[1:]\n",
    "imshow(w.reshape(28,28))"
   ]
  },
  {
   "cell_type": "code",
   "execution_count": null,
   "metadata": {},
   "outputs": [],
   "source": []
  }
 ],
 "metadata": {
  "kernelspec": {
   "display_name": "Python 3",
   "language": "python",
   "name": "python3"
  },
  "language_info": {
   "codemirror_mode": {
    "name": "ipython",
    "version": 3
   },
   "file_extension": ".py",
   "mimetype": "text/x-python",
   "name": "python",
   "nbconvert_exporter": "python",
   "pygments_lexer": "ipython3",
   "version": "3.7.4"
  }
 },
 "nbformat": 4,
 "nbformat_minor": 2
}
